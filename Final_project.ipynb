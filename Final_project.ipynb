{
 "cells": [
  {
   "cell_type": "code",
   "execution_count": 1,
   "metadata": {},
   "outputs": [],
   "source": [
    "#importing modules we require \n",
    "import cv2\n",
    "import numpy as np    \n",
    "import math   \n",
    "import matplotlib.pyplot as plt   \n",
    "import pandas as pd\n",
    "from tensorflow.keras.preprocessing import image   # for preprocessing the images\n",
    "#from keras.utils import np_utils\n",
    "from skimage.transform import resize  "
   ]
  },
  {
   "cell_type": "code",
   "execution_count": 2,
   "metadata": {},
   "outputs": [],
   "source": [
    "n=cv2.dnn.readNet(\"yolov3.weights\", \"yolov3.cfg\")\n",
    "list_of_lables=[]\n",
    "with open(\"coco.names\", \"r\") as f:\n",
    "    list_of_labels=[line.strip() for line in f.readlines()]\n",
    "layers = n.getLayerNames()\n",
    "out_layers = [layers[i[0] - 1] for i in n.getUnconnectedOutLayers()]\n",
    "colors = np.random.uniform(0, 255, size=(len(list_of_labels), 3))"
   ]
  },
  {
   "cell_type": "code",
   "execution_count": null,
   "metadata": {},
   "outputs": [],
   "source": [
    "import numpy as np\n",
    "import cv2\n",
    "# Load a video from file\n",
    "capture = cv2.VideoCapture(\"T.mp4\")\n",
    "while True:\n",
    "    # capture frame-by-frame from video file\n",
    "    ret, cur_img = capture.read() \n",
    "    # show the frame on the screen\n",
    "    \n",
    "    \n",
    "    height, width, channels = cur_img.shape\n",
    "\n",
    "    blob = cv2.dnn.blobFromImage(cur_img, 0.00392, (416,416), (0, 0, 0), True, crop=False)\n",
    "    n.setInput(blob)\n",
    "    outs = n.forward(out_layers)\n",
    "    class_ids = []\n",
    "    confidences = []\n",
    "    boxes = []\n",
    "    for out in outs:\n",
    "        for detection in out:\n",
    "            scores = detection[5:]\n",
    "            class_id = np.argmax(scores)\n",
    "            confidence = scores[class_id]\n",
    "            if confidence > 0.5:\n",
    "                # Object detected\n",
    "                center_x = int(detection[0] * width)\n",
    "                center_y = int(detection[1] * height)\n",
    "                w = int(detection[2] * width)\n",
    "                h = int(detection[3] * height)\n",
    "                # Rectangle coordinates\n",
    "                x = int(center_x - w / 2)\n",
    "                y = int(center_y - h / 2)\n",
    "                boxes.append([x, y, w, h])\n",
    "                confidences.append(float(confidence))\n",
    "                class_ids.append(class_id)\n",
    "    indexes = cv2.dnn.NMSBoxes(boxes, confidences, 0.5, 0.4)\n",
    "    count=0\n",
    "    font = cv2.FONT_HERSHEY_PLAIN\n",
    "    for i in range(len(boxes)):\n",
    "        if i in indexes:\n",
    "            x, y, w, h = boxes[i]\n",
    "            label = str(list_of_labels[class_ids[i]])\n",
    "            if(label in ['car','bus','truck','motorbike','bicycle']):\n",
    "                #print(label,count,sep=\" : \")\n",
    "                count+=1\n",
    "            color = colors[i]\n",
    "            cv2.rectangle(cur_img, (x, y), (x + w, y + h), color, 2)\n",
    "            #cv2.putText(cur_img, label, (x, y + 30), font, 3, color, 3)\n",
    "    cv2.putText(cur_img, \"chaos level\" + str(count), (100,100), font, 3, (255,255,255), 3)\n",
    "    cv2.imshow(\"frame\", cur_img)\n",
    "    if cv2.waitKey(27) & 0xFF == ord('q'):\n",
    "        break\n",
    "# When everything done, release the capture\n",
    "capture.release()\n",
    "cv2.destroyAllWindows()"
   ]
  },
  {
   "cell_type": "code",
   "execution_count": null,
   "metadata": {},
   "outputs": [],
   "source": [
    "total_chaos=0\n",
    "no_of_frames=0\n",
    "for i in range(0,78):\n",
    "    imag_n=\"frame\"+str(i)+\".jpg\"\n",
    "    s=Obj_detect(imag_n)\n",
    "    if(s!=0):\n",
    "        total_chaos+=s\n",
    "        no_of_frames+=1\n",
    "    \n",
    "    #Obj_detect(\"frame47.jpg\")    "
   ]
  },
  {
   "cell_type": "code",
   "execution_count": null,
   "metadata": {},
   "outputs": [],
   "source": [
    "print(\"Total Chaos : \",total_chaos)\n",
    "print(\"Useful no of frames : \",no_of_frames)"
   ]
  },
  {
   "cell_type": "code",
   "execution_count": null,
   "metadata": {},
   "outputs": [],
   "source": [
    "avg_chaos=(total_chaos/no_of_frames)\n",
    "print(\"Average Chaos : \",avg_chaos)"
   ]
  },
  {
   "cell_type": "code",
   "execution_count": null,
   "metadata": {},
   "outputs": [],
   "source": []
  }
 ],
 "metadata": {
  "kernelspec": {
   "display_name": "Python 3",
   "language": "python",
   "name": "python3"
  },
  "language_info": {
   "codemirror_mode": {
    "name": "ipython",
    "version": 3
   },
   "file_extension": ".py",
   "mimetype": "text/x-python",
   "name": "python",
   "nbconvert_exporter": "python",
   "pygments_lexer": "ipython3",
   "version": "3.7.7"
  }
 },
 "nbformat": 4,
 "nbformat_minor": 2
}
